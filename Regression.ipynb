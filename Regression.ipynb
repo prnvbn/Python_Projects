{
  "nbformat": 4,
  "nbformat_minor": 0,
  "metadata": {
    "colab": {
      "name": "Regression.ipynb",
      "provenance": [],
      "collapsed_sections": []
    },
    "kernelspec": {
      "name": "python3",
      "display_name": "Python 3"
    }
  },
  "cells": [
    {
      "cell_type": "code",
      "metadata": {
        "id": "de4L9ScNlWoG",
        "colab_type": "code",
        "outputId": "2c7591c5-4f2d-4c78-a940-7a3f95132fe6",
        "colab": {
          "base_uri": "https://localhost:8080/",
          "height": 80
        }
      },
      "source": [
        "import numpy as np\n",
        "import matplotlib.pyplot as plt\n",
        "\n",
        "from keras.models import Sequential \n",
        "from keras.layers import Dense\n",
        "from keras.optimizers import Adam"
      ],
      "execution_count": 0,
      "outputs": [
        {
          "output_type": "stream",
          "text": [
            "Using TensorFlow backend.\n"
          ],
          "name": "stderr"
        },
        {
          "output_type": "display_data",
          "data": {
            "text/html": [
              "<p style=\"color: red;\">\n",
              "The default version of TensorFlow in Colab will soon switch to TensorFlow 2.x.<br>\n",
              "We recommend you <a href=\"https://www.tensorflow.org/guide/migrate\" target=\"_blank\">upgrade</a> now \n",
              "or ensure your notebook will continue to use TensorFlow 1.x via the <code>%tensorflow_version 1.x</code> magic:\n",
              "<a href=\"https://colab.research.google.com/notebooks/tensorflow_version.ipynb\" target=\"_blank\">more info</a>.</p>\n"
            ],
            "text/plain": [
              "<IPython.core.display.HTML object>"
            ]
          },
          "metadata": {
            "tags": []
          }
        }
      ]
    },
    {
      "cell_type": "code",
      "metadata": {
        "id": "uM4N5yC6lmzH",
        "colab_type": "code",
        "outputId": "04588e13-14fe-4a50-9cad-6be3039e2752",
        "colab": {
          "base_uri": "https://localhost:8080/",
          "height": 283
        }
      },
      "source": [
        "np.random.seed(0)\n",
        "points = 500\n",
        "X = np.linspace(-3, 3, points)\n",
        "y = np.sin(X) + np.cos(X)  + np.random.uniform(-0.5, 0.5, points)\n",
        "plt.scatter(X,y)"
      ],
      "execution_count": 0,
      "outputs": [
        {
          "output_type": "execute_result",
          "data": {
            "text/plain": [
              "<matplotlib.collections.PathCollection at 0x7f21603f14a8>"
            ]
          },
          "metadata": {
            "tags": []
          },
          "execution_count": 2
        },
        {
          "output_type": "display_data",
          "data": {
            "image/png": "[encoded data removed]",
            "text/plain": [
              "<Figure size 432x288 with 1 Axes>"
            ]
          },
          "metadata": {
            "tags": []
          }
        }
      ]
    },
    {
      "cell_type": "code",
      "metadata": {
        "id": "xD5ui5fQl6Oo",
        "colab_type": "code",
        "outputId": "cabe87b6-5991-4847-9591-36b6e53cfa51",
        "colab": {
          "base_uri": "https://localhost:8080/",
          "height": 119
        }
      },
      "source": [
        "model = Sequential()\n",
        "model.add(Dense(50,activation = 'sigmoid', input_dim=1))\n",
        "model.add(Dense(30, activation = 'sigmoid'))\n",
        "model.add(Dense(1))"
      ],
      "execution_count": 0,
      "outputs": [
        {
          "output_type": "stream",
          "text": [
            "WARNING:tensorflow:From /usr/local/lib/python3.6/dist-packages/keras/backend/tensorflow_backend.py:66: The name tf.get_default_graph is deprecated. Please use tf.compat.v1.get_default_graph instead.\n",
            "\n",
            "WARNING:tensorflow:From /usr/local/lib/python3.6/dist-packages/keras/backend/tensorflow_backend.py:541: The name tf.placeholder is deprecated. Please use tf.compat.v1.placeholder instead.\n",
            "\n",
            "WARNING:tensorflow:From /usr/local/lib/python3.6/dist-packages/keras/backend/tensorflow_backend.py:4432: The name tf.random_uniform is deprecated. Please use tf.random.uniform instead.\n",
            "\n"
          ],
          "name": "stdout"
        }
      ]
    },
    {
      "cell_type": "code",
      "metadata": {
        "id": "8yv7Qi3HnSin",
        "colab_type": "code",
        "outputId": "b445c4ee-2126-4f5f-9ad8-804749f63a9b",
        "colab": {
          "base_uri": "https://localhost:8080/",
          "height": 1000
        }
      },
      "source": [
        "adam = Adam(lr = 0.01)\n",
        "model.compile(loss = 'mean_squared_error', optimizer=adam) \n",
        "model.fit(X,y,epochs=50)"
      ],
      "execution_count": 0,
      "outputs": [
        {
          "output_type": "stream",
          "text": [
            "WARNING:tensorflow:From /usr/local/lib/python3.6/dist-packages/keras/optimizers.py:793: The name tf.train.Optimizer is deprecated. Please use tf.compat.v1.train.Optimizer instead.\n",
            "\n",
            "WARNING:tensorflow:From /usr/local/lib/python3.6/dist-packages/keras/backend/tensorflow_backend.py:1033: The name tf.assign_add is deprecated. Please use tf.compat.v1.assign_add instead.\n",
            "\n",
            "WARNING:tensorflow:From /usr/local/lib/python3.6/dist-packages/keras/backend/tensorflow_backend.py:1020: The name tf.assign is deprecated. Please use tf.compat.v1.assign instead.\n",
            "\n",
            "WARNING:tensorflow:From /usr/local/lib/python3.6/dist-packages/keras/backend/tensorflow_backend.py:3005: The name tf.Session is deprecated. Please use tf.compat.v1.Session instead.\n",
            "\n",
            "Epoch 1/50\n",
            "WARNING:tensorflow:From /usr/local/lib/python3.6/dist-packages/keras/backend/tensorflow_backend.py:190: The name tf.get_default_session is deprecated. Please use tf.compat.v1.get_default_session instead.\n",
            "\n",
            "WARNING:tensorflow:From /usr/local/lib/python3.6/dist-packages/keras/backend/tensorflow_backend.py:197: The name tf.ConfigProto is deprecated. Please use tf.compat.v1.ConfigProto instead.\n",
            "\n",
            "WARNING:tensorflow:From /usr/local/lib/python3.6/dist-packages/keras/backend/tensorflow_backend.py:207: The name tf.global_variables is deprecated. Please use tf.compat.v1.global_variables instead.\n",
            "\n",
            "WARNING:tensorflow:From /usr/local/lib/python3.6/dist-packages/keras/backend/tensorflow_backend.py:216: The name tf.is_variable_initialized is deprecated. Please use tf.compat.v1.is_variable_initialized instead.\n",
            "\n",
            "WARNING:tensorflow:From /usr/local/lib/python3.6/dist-packages/keras/backend/tensorflow_backend.py:223: The name tf.variables_initializer is deprecated. Please use tf.compat.v1.variables_initializer instead.\n",
            "\n",
            "500/500 [==============================] - 0s 818us/step - loss: 0.9103\n",
            "Epoch 2/50\n",
            "500/500 [==============================] - 0s 45us/step - loss: 0.7229\n",
            "Epoch 3/50\n",
            "500/500 [==============================] - 0s 50us/step - loss: 0.6842\n",
            "Epoch 4/50\n",
            "500/500 [==============================] - 0s 58us/step - loss: 0.6379\n",
            "Epoch 5/50\n",
            "500/500 [==============================] - 0s 61us/step - loss: 0.6032\n",
            "Epoch 6/50\n",
            "500/500 [==============================] - 0s 44us/step - loss: 0.4990\n",
            "Epoch 7/50\n",
            "500/500 [==============================] - 0s 48us/step - loss: 0.4331\n",
            "Epoch 8/50\n",
            "500/500 [==============================] - 0s 56us/step - loss: 0.3830\n",
            "Epoch 9/50\n",
            "500/500 [==============================] - 0s 53us/step - loss: 0.3382\n",
            "Epoch 10/50\n",
            "500/500 [==============================] - 0s 45us/step - loss: 0.2766\n",
            "Epoch 11/50\n",
            "500/500 [==============================] - 0s 46us/step - loss: 0.2101\n",
            "Epoch 12/50\n",
            "500/500 [==============================] - 0s 53us/step - loss: 0.1527\n",
            "Epoch 13/50\n",
            "500/500 [==============================] - 0s 53us/step - loss: 0.1226\n",
            "Epoch 14/50\n",
            "500/500 [==============================] - 0s 43us/step - loss: 0.1055\n",
            "Epoch 15/50\n",
            "500/500 [==============================] - 0s 43us/step - loss: 0.1120\n",
            "Epoch 16/50\n",
            "500/500 [==============================] - 0s 43us/step - loss: 0.1134\n",
            "Epoch 17/50\n",
            "500/500 [==============================] - 0s 44us/step - loss: 0.1022\n",
            "Epoch 18/50\n",
            "500/500 [==============================] - 0s 42us/step - loss: 0.0990\n",
            "Epoch 19/50\n",
            "500/500 [==============================] - 0s 48us/step - loss: 0.0984\n",
            "Epoch 20/50\n",
            "500/500 [==============================] - 0s 45us/step - loss: 0.1004\n",
            "Epoch 21/50\n",
            "500/500 [==============================] - 0s 57us/step - loss: 0.0966\n",
            "Epoch 22/50\n",
            "500/500 [==============================] - 0s 53us/step - loss: 0.0971\n",
            "Epoch 23/50\n",
            "500/500 [==============================] - 0s 41us/step - loss: 0.0970\n",
            "Epoch 24/50\n",
            "500/500 [==============================] - 0s 50us/step - loss: 0.0979\n",
            "Epoch 25/50\n",
            "500/500 [==============================] - 0s 47us/step - loss: 0.0986\n",
            "Epoch 26/50\n",
            "500/500 [==============================] - 0s 45us/step - loss: 0.0998\n",
            "Epoch 27/50\n",
            "500/500 [==============================] - 0s 45us/step - loss: 0.0988\n",
            "Epoch 28/50\n",
            "500/500 [==============================] - 0s 41us/step - loss: 0.0957\n",
            "Epoch 29/50\n",
            "500/500 [==============================] - 0s 59us/step - loss: 0.0944\n",
            "Epoch 30/50\n",
            "500/500 [==============================] - 0s 44us/step - loss: 0.0964\n",
            "Epoch 31/50\n",
            "500/500 [==============================] - 0s 51us/step - loss: 0.0964\n",
            "Epoch 32/50\n",
            "500/500 [==============================] - 0s 42us/step - loss: 0.0996\n",
            "Epoch 33/50\n",
            "500/500 [==============================] - 0s 51us/step - loss: 0.0961\n",
            "Epoch 34/50\n",
            "500/500 [==============================] - 0s 47us/step - loss: 0.0990\n",
            "Epoch 35/50\n",
            "500/500 [==============================] - 0s 43us/step - loss: 0.0989\n",
            "Epoch 36/50\n",
            "500/500 [==============================] - 0s 48us/step - loss: 0.0968\n",
            "Epoch 37/50\n",
            "500/500 [==============================] - 0s 41us/step - loss: 0.0978\n",
            "Epoch 38/50\n",
            "500/500 [==============================] - 0s 46us/step - loss: 0.0971\n",
            "Epoch 39/50\n",
            "500/500 [==============================] - 0s 45us/step - loss: 0.0961\n",
            "Epoch 40/50\n",
            "500/500 [==============================] - 0s 48us/step - loss: 0.0958\n",
            "Epoch 41/50\n",
            "500/500 [==============================] - 0s 61us/step - loss: 0.0946\n",
            "Epoch 42/50\n",
            "500/500 [==============================] - 0s 46us/step - loss: 0.0969\n",
            "Epoch 43/50\n",
            "500/500 [==============================] - 0s 47us/step - loss: 0.1004\n",
            "Epoch 44/50\n",
            "500/500 [==============================] - 0s 42us/step - loss: 0.0996\n",
            "Epoch 45/50\n",
            "500/500 [==============================] - 0s 46us/step - loss: 0.0995\n",
            "Epoch 46/50\n",
            "500/500 [==============================] - 0s 45us/step - loss: 0.1018\n",
            "Epoch 47/50\n",
            "500/500 [==============================] - 0s 42us/step - loss: 0.1000\n",
            "Epoch 48/50\n",
            "500/500 [==============================] - 0s 42us/step - loss: 0.0946\n",
            "Epoch 49/50\n",
            "500/500 [==============================] - 0s 41us/step - loss: 0.0953\n",
            "Epoch 50/50\n",
            "500/500 [==============================] - 0s 41us/step - loss: 0.0962\n"
          ],
          "name": "stdout"
        },
        {
          "output_type": "execute_result",
          "data": {
            "text/plain": [
              "<keras.callbacks.History at 0x7f215d6dce10>"
            ]
          },
          "metadata": {
            "tags": []
          },
          "execution_count": 4
        }
      ]
    },
    {
      "cell_type": "code",
      "metadata": {
        "id": "4tXQnPbYpQs8",
        "colab_type": "code",
        "outputId": "894519a2-f08e-483d-abaa-6ba890310982",
        "colab": {
          "base_uri": "https://localhost:8080/",
          "height": 283
        }
      },
      "source": [
        "predictions = model.predict(X)\n",
        "plt.scatter(X,y)\n",
        "plt.plot(X,predictions, 'go')"
      ],
      "execution_count": 0,
      "outputs": [
        {
          "output_type": "execute_result",
          "data": {
            "text/plain": [
              "[<matplotlib.lines.Line2D at 0x7f215cdc9940>]"
            ]
          },
          "metadata": {
            "tags": []
          },
          "execution_count": 5
        },
        {
          "output_type": "display_data",
          "data": {
            "image/png": "[encoded data removed]",
            "text/plain": [
              "<Figure size 432x288 with 1 Axes>"
            ]
          },
          "metadata": {
            "tags": []
          }
        }
      ]
    },
    {
      "cell_type": "code",
      "metadata": {
        "id": "rjNEIpcnqWBR",
        "colab_type": "code",
        "colab": {}
      },
      "source": [
        ""
      ],
      "execution_count": 0,
      "outputs": []
    }
  ]
}