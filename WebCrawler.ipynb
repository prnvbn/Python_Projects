{
  "nbformat": 4,
  "nbformat_minor": 0,
  "metadata": {
    "colab": {
      "name": "WebCrawler",
      "provenance": [],
      "collapsed_sections": []
    },
    "kernelspec": {
      "name": "python3",
      "display_name": "Python 3"
    },
    "accelerator": "GPU"
  },
  "cells": [
    {
      "cell_type": "code",
      "metadata": {
        "id": "yr5BpAHYlwV5",
        "colab_type": "code",
        "colab": {}
      },
      "source": [
        "import bs4\n",
        "import urllib\n",
        "from urllib.parse import urlparse\n",
        "from urllib.request import urlopen as uReq\n",
        "from urllib.request import urlopen, URLError\n",
        "from bs4 import BeautifulSoup as soup"
      ],
      "execution_count": 0,
      "outputs": []
    },
    {
      "cell_type": "code",
      "metadata": {
        "id": "zHyObNX4l0eT",
        "colab_type": "code",
        "colab": {}
      },
      "source": [
        "# Opening the connection and getting the page\n",
        "my_url  = 'https://news.ycombinator.com'\n",
        "uClient = uReq(my_url)\n",
        "s = []\n",
        "\n",
        "page_html = uClient.read()\n",
        "uClient.close()"
      ],
      "execution_count": 0,
      "outputs": []
    },
    {
      "cell_type": "code",
      "metadata": {
        "id": "F-mL1pSemXPS",
        "colab_type": "code",
        "colab": {}
      },
      "source": [
        "# parsing html\n",
        "page_soup = soup(page_html, \"html.parser\")"
      ],
      "execution_count": 0,
      "outputs": []
    },
    {
      "cell_type": "code",
      "metadata": {
        "id": "vtO22nAqnkVP",
        "colab_type": "code",
        "colab": {}
      },
      "source": [
        "# Creating a Stack of all elements with tag <a>\n",
        "# Appending all the basic links to the llist of links\n",
        "s = []\n",
        "count = 0\n",
        "links = []\n",
        "\n",
        "for a in page_soup.find_all('a', href =True, recursive=True):\n",
        "  if \"http\" in a.get('href'):\n",
        "     links.append((count, a.get('href')))\n",
        "     count += 1\n",
        "\n",
        "  s.append(a.get('href'))\n"
      ],
      "execution_count": 0,
      "outputs": []
    },
    {
      "cell_type": "code",
      "metadata": {
        "id": "NVRMCr_stA1H",
        "colab_type": "code",
        "colab": {}
      },
      "source": [
        "# Craeeting a unction to check if a given URL is valid\n",
        "\n",
        "def url_validator(x):\n",
        "    try:\n",
        "        result = urlparse(x)\n",
        "        return all([result.scheme, result.netloc, result.path])\n",
        "    except:\n",
        "        return False\n"
      ],
      "execution_count": 0,
      "outputs": []
    },
    {
      "cell_type": "code",
      "metadata": {
        "id": "40jKYr0ebEX3",
        "colab_type": "code",
        "colab": {}
      },
      "source": [
        "# Going through the stack and finding the possible links\n",
        "i = 0\n",
        "j = 1\n",
        "while(count in range(100)):\n",
        "  while((\"http\" in s[i]) and (\"http\" not in s[j])):\n",
        "    if(url_validator(s[i] + '/' + s[j] + '/')):\n",
        "      count = count + 1\n",
        "      links.append((count, s[i] + '/' + s[j]))\n",
        "      j = j + 1\n",
        "  i = j\n",
        "  j = j + 1\n",
        "  count = count + 1\n",
        "  \n",
        "  "
      ],
      "execution_count": 0,
      "outputs": []
    },
    {
      "cell_type": "code",
      "metadata": {
        "id": "KOqvxmTBkyRf",
        "colab_type": "code",
        "colab": {
          "base_uri": "https://localhost:8080/",
          "height": 1000
        },
        "outputId": "3f8f9271-1ae5-43d9-ae74-0410cfc57d21"
      },
      "source": [
        "\n",
        "for link in links:\n",
        "  print(\"Link \", link[0]+1, \"is \", link[1] )"
      ],
      "execution_count": 7,
      "outputs": [
        {
          "output_type": "stream",
          "text": [
            "Link  1 is  https://news.ycombinator.com\n",
            "Link  2 is  https://www.aclu.org/press-releases/federal-court-rules-suspicionless-searches-travelers-phones-and-laptops\n",
            "Link  3 is  https://stratechery.com/2019/the-google-squeeze/\n",
            "Link  4 is  https://hacks.mozilla.org/2019/11/announcing-the-bytecode-alliance/\n",
            "Link  5 is  https://www.nature.com/articles/d41586-019-03371-0\n",
            "Link  6 is  https://steveblank.com/2019/11/12/why-the-government-is-isnt-a-bigger-version-of-a-startup/\n",
            "Link  7 is  https://danielsada.tech/blog/cloud-services-dos/\n",
            "Link  8 is  https://github.com/jgraph/drawio\n",
            "Link  9 is  https://www.redhat.com/en/blog/red-hat-introduces-open-source-project-quay-container-registry?sc_cid=701f2000000tyBjAAI\n",
            "Link  10 is  https://avc.com/2019/11/no-shenanigans/\n",
            "Link  11 is  https://www.maizure.org/projects/printf/index.html\n",
            "Link  12 is  https://www.bbc.com/news/technology-50390589\n",
            "Link  13 is  https://shagunjhaver.com/files/research/jhaver-2019-transparency.pdf\n",
            "Link  14 is  https://www.nccgroup.trust/us/about-us/newsroom-and-events/blog/2019/october/bypassing-authentication-on-ssh-bastion-hosts/\n",
            "Link  15 is  https://www.techdirt.com/articles/20190726/00143342658/copyright-troll-richard-liebowitz-may-have-cost-his-client-ton-money-set-expensive-precedent-copyright-trolls.shtml\n",
            "Link  16 is  https://www.newyorker.com/culture/annals-of-inquiry/the-myth-and-magic-of-generating-new-ideas\n",
            "Link  17 is  https://phys.org/news/2019-11-physics-ultrafast-laser-pulses-previously.html\n",
            "Link  18 is  https://eggonomy.com/blogs/news/blogwashing\n",
            "Link  19 is  https://blogs.scientificamerican.com/observations/behind-the-scenes-of-a-radical-new-cancer-cure/\n",
            "Link  20 is  https://www.cockroachlabs.com/blog/cockroachdb-19dot2-release/#\n",
            "Link  21 is  https://www.reuters.com/article/us-leonardo-drones/italian-aerospace-group-leonardo-invests-in-solar-powered-drones-idUSKBN1XL295\n",
            "Link  22 is  https://jobs.lever.co/givecampus\n",
            "Link  23 is  https://chelseatroy.com/2019/11/11/building-a-parser/\n",
            "Link  24 is  https://framablog.org/2019/11/12/peertube-has-worked-twice-as-hard-to-free-your-videos-from-youtube/\n",
            "Link  25 is  https://www.openindiana.org/2019/11/07/openindiana-hipster-2019-10-is-here/\n",
            "Link  26 is  https://devblogs.nvidia.com/grcuda-a-polyglot-language-binding-for-cuda-in-graalvm/\n",
            "Link  27 is  https://gcc.gnu.org/onlinedocs/gccint.pdf\n",
            "Link  28 is  https://en.wikipedia.org/wiki/Einstein_refrigerator\n",
            "Link  29 is  http://nautil.us/issue/15/turbulence/fruits-and-vegetables-are-trying-to-kill-you\n",
            "Link  30 is  https://www.marketwatch.com/story/the-us-can-slash-health-care-costs-75-with-2-fundamental-changes-and-without-medicare-for-all-2019-08-15\n",
            "Link  31 is  https://github.com/HackerNews/API\n",
            "Link  32 is  http://www.ycombinator.com/legal/\n",
            "Link  33 is  http://www.ycombinator.com/apply/\n",
            "Link  35 is  https://news.ycombinator.com/news\n",
            "Link  36 is  https://news.ycombinator.com/newest\n",
            "Link  37 is  https://news.ycombinator.com/front\n",
            "Link  38 is  https://news.ycombinator.com/newcomments\n",
            "Link  39 is  https://news.ycombinator.com/ask\n",
            "Link  40 is  https://news.ycombinator.com/show\n",
            "Link  41 is  https://news.ycombinator.com/jobs\n",
            "Link  42 is  https://news.ycombinator.com/submit\n",
            "Link  43 is  https://news.ycombinator.com/login?goto=news\n",
            "Link  44 is  https://news.ycombinator.com/vote?id=21517722&how=up&goto=news\n",
            "Link  46 is  https://www.aclu.org/press-releases/federal-court-rules-suspicionless-searches-travelers-phones-and-laptops/from?site=aclu.org\n",
            "Link  47 is  https://www.aclu.org/press-releases/federal-court-rules-suspicionless-searches-travelers-phones-and-laptops/user?id=coloneltcb\n",
            "Link  48 is  https://www.aclu.org/press-releases/federal-court-rules-suspicionless-searches-travelers-phones-and-laptops/item?id=21517722\n",
            "Link  49 is  https://www.aclu.org/press-releases/federal-court-rules-suspicionless-searches-travelers-phones-and-laptops/hide?id=21517722&goto=news\n",
            "Link  50 is  https://www.aclu.org/press-releases/federal-court-rules-suspicionless-searches-travelers-phones-and-laptops/item?id=21517722\n",
            "Link  51 is  https://www.aclu.org/press-releases/federal-court-rules-suspicionless-searches-travelers-phones-and-laptops/vote?id=21515181&how=up&goto=news\n",
            "Link  53 is  https://stratechery.com/2019/the-google-squeeze//from?site=stratechery.com\n",
            "Link  54 is  https://stratechery.com/2019/the-google-squeeze//user?id=zwieback\n",
            "Link  55 is  https://stratechery.com/2019/the-google-squeeze//item?id=21515181\n",
            "Link  56 is  https://stratechery.com/2019/the-google-squeeze//hide?id=21515181&goto=news\n",
            "Link  57 is  https://stratechery.com/2019/the-google-squeeze//item?id=21515181\n",
            "Link  58 is  https://stratechery.com/2019/the-google-squeeze//vote?id=21515725&how=up&goto=news\n",
            "Link  60 is  https://hacks.mozilla.org/2019/11/announcing-the-bytecode-alliance//from?site=hacks.mozilla.org\n",
            "Link  61 is  https://hacks.mozilla.org/2019/11/announcing-the-bytecode-alliance//user?id=markdog12\n",
            "Link  62 is  https://hacks.mozilla.org/2019/11/announcing-the-bytecode-alliance//item?id=21515725\n",
            "Link  63 is  https://hacks.mozilla.org/2019/11/announcing-the-bytecode-alliance//hide?id=21515725&goto=news\n",
            "Link  64 is  https://hacks.mozilla.org/2019/11/announcing-the-bytecode-alliance//item?id=21515725\n",
            "Link  65 is  https://hacks.mozilla.org/2019/11/announcing-the-bytecode-alliance//vote?id=21516320&how=up&goto=news\n",
            "Link  67 is  https://www.nature.com/articles/d41586-019-03371-0/from?site=nature.com\n",
            "Link  68 is  https://www.nature.com/articles/d41586-019-03371-0/user?id=pseudolus\n",
            "Link  69 is  https://www.nature.com/articles/d41586-019-03371-0/item?id=21516320\n",
            "Link  70 is  https://www.nature.com/articles/d41586-019-03371-0/hide?id=21516320&goto=news\n",
            "Link  71 is  https://www.nature.com/articles/d41586-019-03371-0/item?id=21516320\n",
            "Link  72 is  https://www.nature.com/articles/d41586-019-03371-0/vote?id=21517296&how=up&goto=news\n",
            "Link  74 is  https://steveblank.com/2019/11/12/why-the-government-is-isnt-a-bigger-version-of-a-startup//from?site=steveblank.com\n",
            "Link  75 is  https://steveblank.com/2019/11/12/why-the-government-is-isnt-a-bigger-version-of-a-startup//user?id=rmason\n",
            "Link  76 is  https://steveblank.com/2019/11/12/why-the-government-is-isnt-a-bigger-version-of-a-startup//item?id=21517296\n",
            "Link  77 is  https://steveblank.com/2019/11/12/why-the-government-is-isnt-a-bigger-version-of-a-startup//hide?id=21517296&goto=news\n",
            "Link  78 is  https://steveblank.com/2019/11/12/why-the-government-is-isnt-a-bigger-version-of-a-startup//item?id=21517296\n",
            "Link  79 is  https://steveblank.com/2019/11/12/why-the-government-is-isnt-a-bigger-version-of-a-startup//vote?id=21515772&how=up&goto=news\n",
            "Link  81 is  https://danielsada.tech/blog/cloud-services-dos//from?site=danielsada.tech\n",
            "Link  82 is  https://danielsada.tech/blog/cloud-services-dos//user?id=dshacker\n",
            "Link  83 is  https://danielsada.tech/blog/cloud-services-dos//item?id=21515772\n",
            "Link  84 is  https://danielsada.tech/blog/cloud-services-dos//hide?id=21515772&goto=news\n",
            "Link  85 is  https://danielsada.tech/blog/cloud-services-dos//item?id=21515772\n",
            "Link  86 is  https://danielsada.tech/blog/cloud-services-dos//vote?id=21513337&how=up&goto=news\n",
            "Link  88 is  https://github.com/jgraph/drawio/from?site=github.com\n",
            "Link  89 is  https://github.com/jgraph/drawio/user?id=dan1234\n",
            "Link  90 is  https://github.com/jgraph/drawio/item?id=21513337\n",
            "Link  91 is  https://github.com/jgraph/drawio/hide?id=21513337&goto=news\n",
            "Link  92 is  https://github.com/jgraph/drawio/item?id=21513337\n",
            "Link  93 is  https://github.com/jgraph/drawio/vote?id=21516565&how=up&goto=news\n",
            "Link  95 is  https://www.redhat.com/en/blog/red-hat-introduces-open-source-project-quay-container-registry?sc_cid=701f2000000tyBjAAI/from?site=redhat.com\n",
            "Link  96 is  https://www.redhat.com/en/blog/red-hat-introduces-open-source-project-quay-container-registry?sc_cid=701f2000000tyBjAAI/user?id=iamd3vil\n",
            "Link  97 is  https://www.redhat.com/en/blog/red-hat-introduces-open-source-project-quay-container-registry?sc_cid=701f2000000tyBjAAI/item?id=21516565\n",
            "Link  98 is  https://www.redhat.com/en/blog/red-hat-introduces-open-source-project-quay-container-registry?sc_cid=701f2000000tyBjAAI/hide?id=21516565&goto=news\n",
            "Link  99 is  https://www.redhat.com/en/blog/red-hat-introduces-open-source-project-quay-container-registry?sc_cid=701f2000000tyBjAAI/item?id=21516565\n",
            "Link  100 is  https://www.redhat.com/en/blog/red-hat-introduces-open-source-project-quay-container-registry?sc_cid=701f2000000tyBjAAI/vote?id=21518060&how=up&goto=news\n"
          ],
          "name": "stdout"
        }
      ]
    },
    {
      "cell_type": "code",
      "metadata": {
        "id": "k5qtrVmAlwSn",
        "colab_type": "code",
        "colab": {}
      },
      "source": [
        ""
      ],
      "execution_count": 0,
      "outputs": []
    }
  ]
}